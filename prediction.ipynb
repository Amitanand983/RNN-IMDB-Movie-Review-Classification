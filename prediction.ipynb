{
 "cells": [
  {
   "cell_type": "code",
   "execution_count": 1,
   "metadata": {},
   "outputs": [],
   "source": [
    "import numpy as np \n",
    "import tensorflow as tf \n",
    "from tensorflow.keras.datasets import imdb\n",
    "from tensorflow.keras.preprocessing import sequence\n",
    "from tensorflow.keras.models import load_model"
   ]
  },
  {
   "cell_type": "code",
   "execution_count": 2,
   "metadata": {},
   "outputs": [],
   "source": [
    "# Load the word index\n",
    "word_index = imdb.get_word_index()\n",
    "reverse_word_index = {value : key for key, value in word_index.items()}"
   ]
  },
  {
   "cell_type": "code",
   "execution_count": 3,
   "metadata": {},
   "outputs": [
    {
     "name": "stderr",
     "output_type": "stream",
     "text": [
      "WARNING:absl:Compiled the loaded model, but the compiled metrics have yet to be built. `model.compile_metrics` will be empty until you train or evaluate the model.\n"
     ]
    },
    {
     "data": {
      "text/html": [
       "<pre style=\"white-space:pre;overflow-x:auto;line-height:normal;font-family:Menlo,'DejaVu Sans Mono',consolas,'Courier New',monospace\"><span style=\"font-weight: bold\">Model: \"sequential\"</span>\n",
       "</pre>\n"
      ],
      "text/plain": [
       "\u001b[1mModel: \"sequential\"\u001b[0m\n"
      ]
     },
     "metadata": {},
     "output_type": "display_data"
    },
    {
     "data": {
      "text/html": [
       "<pre style=\"white-space:pre;overflow-x:auto;line-height:normal;font-family:Menlo,'DejaVu Sans Mono',consolas,'Courier New',monospace\">┏━━━━━━━━━━━━━━━━━━━━━━━━━━━━━━━━━┳━━━━━━━━━━━━━━━━━━━━━━━━┳━━━━━━━━━━━━━━━┓\n",
       "┃<span style=\"font-weight: bold\"> Layer (type)                    </span>┃<span style=\"font-weight: bold\"> Output Shape           </span>┃<span style=\"font-weight: bold\">       Param # </span>┃\n",
       "┡━━━━━━━━━━━━━━━━━━━━━━━━━━━━━━━━━╇━━━━━━━━━━━━━━━━━━━━━━━━╇━━━━━━━━━━━━━━━┩\n",
       "│ embedding (<span style=\"color: #0087ff; text-decoration-color: #0087ff\">Embedding</span>)           │ (<span style=\"color: #00af00; text-decoration-color: #00af00\">32</span>, <span style=\"color: #00af00; text-decoration-color: #00af00\">500</span>, <span style=\"color: #00af00; text-decoration-color: #00af00\">128</span>)         │     <span style=\"color: #00af00; text-decoration-color: #00af00\">1,280,000</span> │\n",
       "├─────────────────────────────────┼────────────────────────┼───────────────┤\n",
       "│ simple_rnn (<span style=\"color: #0087ff; text-decoration-color: #0087ff\">SimpleRNN</span>)          │ (<span style=\"color: #00af00; text-decoration-color: #00af00\">32</span>, <span style=\"color: #00af00; text-decoration-color: #00af00\">128</span>)              │        <span style=\"color: #00af00; text-decoration-color: #00af00\">32,896</span> │\n",
       "├─────────────────────────────────┼────────────────────────┼───────────────┤\n",
       "│ dense (<span style=\"color: #0087ff; text-decoration-color: #0087ff\">Dense</span>)                   │ (<span style=\"color: #00af00; text-decoration-color: #00af00\">32</span>, <span style=\"color: #00af00; text-decoration-color: #00af00\">1</span>)                │           <span style=\"color: #00af00; text-decoration-color: #00af00\">129</span> │\n",
       "└─────────────────────────────────┴────────────────────────┴───────────────┘\n",
       "</pre>\n"
      ],
      "text/plain": [
       "┏━━━━━━━━━━━━━━━━━━━━━━━━━━━━━━━━━┳━━━━━━━━━━━━━━━━━━━━━━━━┳━━━━━━━━━━━━━━━┓\n",
       "┃\u001b[1m \u001b[0m\u001b[1mLayer (type)                   \u001b[0m\u001b[1m \u001b[0m┃\u001b[1m \u001b[0m\u001b[1mOutput Shape          \u001b[0m\u001b[1m \u001b[0m┃\u001b[1m \u001b[0m\u001b[1m      Param #\u001b[0m\u001b[1m \u001b[0m┃\n",
       "┡━━━━━━━━━━━━━━━━━━━━━━━━━━━━━━━━━╇━━━━━━━━━━━━━━━━━━━━━━━━╇━━━━━━━━━━━━━━━┩\n",
       "│ embedding (\u001b[38;5;33mEmbedding\u001b[0m)           │ (\u001b[38;5;34m32\u001b[0m, \u001b[38;5;34m500\u001b[0m, \u001b[38;5;34m128\u001b[0m)         │     \u001b[38;5;34m1,280,000\u001b[0m │\n",
       "├─────────────────────────────────┼────────────────────────┼───────────────┤\n",
       "│ simple_rnn (\u001b[38;5;33mSimpleRNN\u001b[0m)          │ (\u001b[38;5;34m32\u001b[0m, \u001b[38;5;34m128\u001b[0m)              │        \u001b[38;5;34m32,896\u001b[0m │\n",
       "├─────────────────────────────────┼────────────────────────┼───────────────┤\n",
       "│ dense (\u001b[38;5;33mDense\u001b[0m)                   │ (\u001b[38;5;34m32\u001b[0m, \u001b[38;5;34m1\u001b[0m)                │           \u001b[38;5;34m129\u001b[0m │\n",
       "└─────────────────────────────────┴────────────────────────┴───────────────┘\n"
      ]
     },
     "metadata": {},
     "output_type": "display_data"
    },
    {
     "data": {
      "text/html": [
       "<pre style=\"white-space:pre;overflow-x:auto;line-height:normal;font-family:Menlo,'DejaVu Sans Mono',consolas,'Courier New',monospace\"><span style=\"font-weight: bold\"> Total params: </span><span style=\"color: #00af00; text-decoration-color: #00af00\">1,313,027</span> (5.01 MB)\n",
       "</pre>\n"
      ],
      "text/plain": [
       "\u001b[1m Total params: \u001b[0m\u001b[38;5;34m1,313,027\u001b[0m (5.01 MB)\n"
      ]
     },
     "metadata": {},
     "output_type": "display_data"
    },
    {
     "data": {
      "text/html": [
       "<pre style=\"white-space:pre;overflow-x:auto;line-height:normal;font-family:Menlo,'DejaVu Sans Mono',consolas,'Courier New',monospace\"><span style=\"font-weight: bold\"> Trainable params: </span><span style=\"color: #00af00; text-decoration-color: #00af00\">1,313,025</span> (5.01 MB)\n",
       "</pre>\n"
      ],
      "text/plain": [
       "\u001b[1m Trainable params: \u001b[0m\u001b[38;5;34m1,313,025\u001b[0m (5.01 MB)\n"
      ]
     },
     "metadata": {},
     "output_type": "display_data"
    },
    {
     "data": {
      "text/html": [
       "<pre style=\"white-space:pre;overflow-x:auto;line-height:normal;font-family:Menlo,'DejaVu Sans Mono',consolas,'Courier New',monospace\"><span style=\"font-weight: bold\"> Non-trainable params: </span><span style=\"color: #00af00; text-decoration-color: #00af00\">0</span> (0.00 B)\n",
       "</pre>\n"
      ],
      "text/plain": [
       "\u001b[1m Non-trainable params: \u001b[0m\u001b[38;5;34m0\u001b[0m (0.00 B)\n"
      ]
     },
     "metadata": {},
     "output_type": "display_data"
    },
    {
     "data": {
      "text/html": [
       "<pre style=\"white-space:pre;overflow-x:auto;line-height:normal;font-family:Menlo,'DejaVu Sans Mono',consolas,'Courier New',monospace\"><span style=\"font-weight: bold\"> Optimizer params: </span><span style=\"color: #00af00; text-decoration-color: #00af00\">2</span> (12.00 B)\n",
       "</pre>\n"
      ],
      "text/plain": [
       "\u001b[1m Optimizer params: \u001b[0m\u001b[38;5;34m2\u001b[0m (12.00 B)\n"
      ]
     },
     "metadata": {},
     "output_type": "display_data"
    }
   ],
   "source": [
    "# Load the pre-trained model with Relu activation \n",
    "model = load_model('simple_rnn_imdb.h5')\n",
    "model.summary()"
   ]
  },
  {
   "cell_type": "code",
   "execution_count": 4,
   "metadata": {},
   "outputs": [
    {
     "data": {
      "text/plain": [
       "[array([[-0.18927318,  0.00547702, -0.18569297, ...,  0.16158237,\n",
       "         -0.1066907 ,  0.14134288],\n",
       "        [-0.02420658,  0.00271178, -0.06198835, ..., -0.01276176,\n",
       "         -0.04818361,  0.07241137],\n",
       "        [-0.08021142, -0.06882326, -0.10386408, ...,  0.13184676,\n",
       "         -0.06787562,  0.11009631],\n",
       "        ...,\n",
       "        [-0.03372857, -0.03776998,  0.00681446, ..., -0.0486881 ,\n",
       "          0.03661515, -0.00962264],\n",
       "        [-0.00174556, -0.02070071,  0.02138002, ...,  0.0190326 ,\n",
       "          0.01321963, -0.0050428 ],\n",
       "        [ 0.00837419, -0.01758772, -0.02698743, ..., -0.00417408,\n",
       "         -0.06897675,  0.03007151]], dtype=float32),\n",
       " array([[ 0.07716595,  0.132435  , -0.06670307, ...,  0.05547565,\n",
       "          0.20170978, -0.05919341],\n",
       "        [ 0.01610601,  0.00298535,  0.13924086, ...,  0.12318173,\n",
       "          0.00878702,  0.14718491],\n",
       "        [ 0.18659411,  0.26608327,  0.16185834, ...,  0.09363892,\n",
       "          0.18705861,  0.24530703],\n",
       "        ...,\n",
       "        [ 0.01097122, -0.14913833, -0.12866482, ..., -0.01386998,\n",
       "         -0.08823504,  0.01449138],\n",
       "        [ 0.02114686,  0.12980196,  0.13813353, ...,  0.03840682,\n",
       "         -0.13328147,  0.17799695],\n",
       "        [-0.09849445, -0.08010799, -0.11203811, ...,  0.15428068,\n",
       "          0.01900266, -0.14160681]], dtype=float32),\n",
       " array([[-0.1893018 ,  0.06212891,  0.12196545, ...,  0.0021567 ,\n",
       "          0.05875924, -0.07908954],\n",
       "        [-0.15291536,  0.1606601 ,  0.09930858, ..., -0.01243146,\n",
       "          0.08679948,  0.01606933],\n",
       "        [ 0.01266476, -0.04735335,  0.0155337 , ...,  0.05069863,\n",
       "          0.12048875,  0.04003631],\n",
       "        ...,\n",
       "        [ 0.01143531,  0.0148419 , -0.05331172, ...,  0.06755315,\n",
       "          0.01756518, -0.07278556],\n",
       "        [ 0.04358375,  0.18564436,  0.0089704 , ..., -0.09021338,\n",
       "         -0.18791106, -0.21248178],\n",
       "        [ 0.10213085, -0.03295656, -0.1462603 , ...,  0.10996255,\n",
       "         -0.08101028,  0.00552728]], dtype=float32),\n",
       " array([-0.02991753,  0.04211063, -0.0395633 ,  0.01446602, -0.04117276,\n",
       "        -0.05740423,  0.05384437, -0.04326778, -0.04975541, -0.03983963,\n",
       "        -0.02509818, -0.00159854, -0.06982418, -0.03685716,  0.04635056,\n",
       "        -0.03717814, -0.04326307, -0.01850443,  0.0324931 ,  0.053141  ,\n",
       "        -0.00195368, -0.04899403,  0.0020961 , -0.02889881, -0.02758418,\n",
       "        -0.05258954, -0.01492344,  0.03547577,  0.01706513, -0.00306557,\n",
       "         0.04415603,  0.03165738,  0.02121556, -0.04978696,  0.04982624,\n",
       "        -0.03192561,  0.05807087, -0.0428593 , -0.0646679 , -0.06404929,\n",
       "         0.00624254, -0.0515438 , -0.00214584, -0.02030388, -0.03954951,\n",
       "         0.05363294,  0.04565328, -0.05469098, -0.00606099, -0.00428804,\n",
       "        -0.03293833, -0.03951159, -0.03044751,  0.02422621, -0.03754519,\n",
       "         0.00436156, -0.05327256, -0.03786295, -0.05586064,  0.01140195,\n",
       "        -0.02190086,  0.02260032, -0.00573957,  0.00171106, -0.00961337,\n",
       "         0.02975533,  0.00592739,  0.00530053,  0.02067142, -0.00488919,\n",
       "         0.05131354, -0.04578131, -0.0384748 , -0.00345605, -0.00359603,\n",
       "         0.00505991, -0.01942305, -0.03614902, -0.01150047, -0.04465743,\n",
       "        -0.00759835, -0.03282277,  0.00024248,  0.03642373,  0.02189756,\n",
       "        -0.0335661 , -0.0573195 ,  0.00069051,  0.02130202, -0.03535322,\n",
       "        -0.00706228, -0.03526854, -0.03931278,  0.00208395,  0.03410463,\n",
       "        -0.02574617, -0.01678516, -0.05542571,  0.03174481, -0.03148057,\n",
       "        -0.00474865, -0.0327334 , -0.00510247, -0.02621556, -0.02014617,\n",
       "        -0.03961629, -0.00275423,  0.00966165,  0.00814048, -0.05014953,\n",
       "        -0.04221282, -0.04246785, -0.02415035,  0.03733793,  0.00321225,\n",
       "         0.00491701, -0.02473088,  0.04994224,  0.01944979,  0.01250857,\n",
       "        -0.02322797,  0.01884508,  0.00916603, -0.04028039,  0.01985843,\n",
       "         0.00796249, -0.04592917, -0.0405938 ], dtype=float32),\n",
       " array([[-2.33162269e-01],\n",
       "        [-1.28020957e-01],\n",
       "        [-1.83485478e-01],\n",
       "        [ 1.09213039e-01],\n",
       "        [ 1.16303220e-01],\n",
       "        [ 2.66106337e-01],\n",
       "        [-1.61149837e-02],\n",
       "        [ 8.15786794e-02],\n",
       "        [-7.22808093e-02],\n",
       "        [-4.24621291e-02],\n",
       "        [-1.64426789e-02],\n",
       "        [-8.88434649e-02],\n",
       "        [ 2.64081117e-02],\n",
       "        [ 2.35552177e-01],\n",
       "        [-2.59318650e-01],\n",
       "        [-1.17231756e-01],\n",
       "        [-4.77839261e-02],\n",
       "        [ 5.99501003e-03],\n",
       "        [-3.27350348e-02],\n",
       "        [-4.96701337e-02],\n",
       "        [ 6.68090060e-02],\n",
       "        [ 1.49585649e-01],\n",
       "        [-5.95913269e-02],\n",
       "        [-1.09770752e-01],\n",
       "        [ 1.37549505e-01],\n",
       "        [ 1.45483622e-02],\n",
       "        [-7.97182739e-01],\n",
       "        [ 1.70893848e-01],\n",
       "        [ 1.80047244e-01],\n",
       "        [-8.68581906e-02],\n",
       "        [ 2.15456374e-02],\n",
       "        [ 1.75407320e-01],\n",
       "        [ 1.84899792e-01],\n",
       "        [-2.30792299e-01],\n",
       "        [ 1.63545474e-01],\n",
       "        [-1.93955749e-01],\n",
       "        [ 1.11314565e-01],\n",
       "        [ 1.37899160e-01],\n",
       "        [ 2.20339105e-01],\n",
       "        [ 1.28587201e-01],\n",
       "        [ 2.08730996e-01],\n",
       "        [-7.94020891e-02],\n",
       "        [ 3.54442716e-01],\n",
       "        [ 2.61824667e-01],\n",
       "        [-3.33844483e-01],\n",
       "        [ 7.20417476e-04],\n",
       "        [-1.72578156e-01],\n",
       "        [-1.08146571e-01],\n",
       "        [ 1.12929232e-01],\n",
       "        [ 2.01767102e-01],\n",
       "        [-2.37680078e-01],\n",
       "        [ 9.76304114e-02],\n",
       "        [ 1.24376833e-01],\n",
       "        [-2.10565582e-01],\n",
       "        [-1.82370022e-01],\n",
       "        [ 3.92557941e-02],\n",
       "        [-1.59635708e-01],\n",
       "        [-8.85209665e-02],\n",
       "        [ 7.83933327e-02],\n",
       "        [ 1.92352712e-01],\n",
       "        [-2.91914381e-02],\n",
       "        [ 1.22764409e-01],\n",
       "        [-1.93901926e-01],\n",
       "        [-1.97411835e-01],\n",
       "        [-2.05918640e-01],\n",
       "        [-2.26047769e-01],\n",
       "        [ 2.03532457e-01],\n",
       "        [-5.75571001e-01],\n",
       "        [-5.01422137e-02],\n",
       "        [ 5.95903844e-02],\n",
       "        [-2.94461876e-01],\n",
       "        [-2.13318124e-01],\n",
       "        [-4.63556319e-01],\n",
       "        [-1.72098085e-01],\n",
       "        [ 2.35800281e-01],\n",
       "        [-1.75094917e-01],\n",
       "        [ 1.30385026e-01],\n",
       "        [-5.45835793e-02],\n",
       "        [-6.23829216e-02],\n",
       "        [-1.07233025e-01],\n",
       "        [-2.20845267e-01],\n",
       "        [ 1.03531256e-01],\n",
       "        [-1.25328422e-01],\n",
       "        [ 4.86240014e-02],\n",
       "        [ 2.04021871e-01],\n",
       "        [-2.38356322e-01],\n",
       "        [-1.54080614e-01],\n",
       "        [ 3.83206718e-02],\n",
       "        [-2.33055666e-01],\n",
       "        [-2.56091028e-01],\n",
       "        [-1.23129502e-01],\n",
       "        [-2.40384981e-01],\n",
       "        [-2.96440180e-02],\n",
       "        [-1.15920953e-01],\n",
       "        [-3.09906360e-02],\n",
       "        [-7.94783384e-02],\n",
       "        [-1.52064636e-02],\n",
       "        [ 1.36920765e-01],\n",
       "        [-5.01182318e-01],\n",
       "        [-1.91699028e-01],\n",
       "        [-2.03608096e-01],\n",
       "        [ 4.90396172e-02],\n",
       "        [-1.87665597e-01],\n",
       "        [ 9.47081000e-02],\n",
       "        [ 1.38643771e-01],\n",
       "        [ 1.00148674e-02],\n",
       "        [-1.78131685e-01],\n",
       "        [ 9.82972160e-02],\n",
       "        [ 1.33243769e-01],\n",
       "        [-2.37564176e-01],\n",
       "        [-6.62531406e-02],\n",
       "        [-1.51966646e-01],\n",
       "        [ 3.95930633e-02],\n",
       "        [-1.82485476e-01],\n",
       "        [ 1.47465646e-01],\n",
       "        [ 3.11281160e-02],\n",
       "        [ 1.94305480e-02],\n",
       "        [ 1.51967525e-01],\n",
       "        [-8.18936378e-02],\n",
       "        [ 1.82101682e-01],\n",
       "        [-2.32364014e-01],\n",
       "        [-3.56681943e-02],\n",
       "        [ 9.93880630e-02],\n",
       "        [-1.59953132e-01],\n",
       "        [ 1.76704898e-02],\n",
       "        [ 7.83220604e-02],\n",
       "        [ 4.04327884e-02],\n",
       "        [-9.10295099e-02]], dtype=float32),\n",
       " array([-0.66152686], dtype=float32)]"
      ]
     },
     "execution_count": 4,
     "metadata": {},
     "output_type": "execute_result"
    }
   ],
   "source": [
    "model.get_weights()"
   ]
  },
  {
   "cell_type": "code",
   "execution_count": 5,
   "metadata": {},
   "outputs": [],
   "source": [
    "# function to decode reviews\n",
    "def decode_review(encode_review):\n",
    "    return ' '.join([reverse_word_index.get(i - 3, '?') for i in encode_review])\n",
    "\n",
    "# function to preprocess user input\n",
    "def preprocess_text(text):\n",
    "    words = text.lower().split()\n",
    "    encoded_review = [word_index.get(word, 2) + 3 for word in words]\n",
    "    padded_review = sequence.pad_sequences([encoded_review], maxlen=500)\n",
    "    return padded_review"
   ]
  },
  {
   "cell_type": "code",
   "execution_count": 6,
   "metadata": {},
   "outputs": [],
   "source": [
    "# prediction function\n",
    "def predict_sentiment(review):\n",
    "    preprocessed_input = preprocess_text(review)\n",
    "\n",
    "    prediction = model.predict(preprocessed_input)\n",
    "\n",
    "    sentiment = 'Positive' if prediction[0][0] > 0.5 else 'Negative'\n",
    "    return sentiment, prediction[0][0]"
   ]
  },
  {
   "cell_type": "code",
   "execution_count": 7,
   "metadata": {},
   "outputs": [
    {
     "name": "stdout",
     "output_type": "stream",
     "text": [
      "\u001b[1m1/1\u001b[0m \u001b[32m━━━━━━━━━━━━━━━━━━━━\u001b[0m\u001b[37m\u001b[0m \u001b[1m0s\u001b[0m 91ms/step\n",
      "Review: This movie was fantastic! The acting was great and the plot was thrilling.\n",
      "Sentiment: Positive\n",
      "Prediction Score: 0.7842598557472229\n"
     ]
    }
   ],
   "source": [
    "## Step 4: User Input and Prediction \n",
    "# Examples review for Prediction\n",
    "example_review = \"This movie was fantastic! The acting was great and the plot was thrilling.\"\n",
    "sentiment, score = predict_sentiment(example_review)\n",
    "print(f'Review: {example_review}')\n",
    "print(f'Sentiment: {sentiment}')\n",
    "print(f'Prediction Score: {score}')"
   ]
  },
  {
   "cell_type": "code",
   "execution_count": null,
   "metadata": {},
   "outputs": [],
   "source": []
  },
  {
   "cell_type": "code",
   "execution_count": null,
   "metadata": {},
   "outputs": [],
   "source": []
  },
  {
   "cell_type": "code",
   "execution_count": null,
   "metadata": {},
   "outputs": [],
   "source": []
  }
 ],
 "metadata": {
  "kernelspec": {
   "display_name": "Python 3",
   "language": "python",
   "name": "python3"
  },
  "language_info": {
   "codemirror_mode": {
    "name": "ipython",
    "version": 3
   },
   "file_extension": ".py",
   "mimetype": "text/x-python",
   "name": "python",
   "nbconvert_exporter": "python",
   "pygments_lexer": "ipython3",
   "version": "3.11.4"
  },
  "orig_nbformat": 4
 },
 "nbformat": 4,
 "nbformat_minor": 2
}
